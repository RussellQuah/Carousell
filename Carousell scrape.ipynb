{
 "cells": [
  {
   "cell_type": "markdown",
   "metadata": {},
   "source": [
    "# Webscraping Google Play store for Carousell"
   ]
  },
  {
   "cell_type": "code",
   "execution_count": 1,
   "metadata": {},
   "outputs": [],
   "source": [
    "# !pip install google_play_scraper"
   ]
  },
  {
   "cell_type": "code",
   "execution_count": 2,
   "metadata": {},
   "outputs": [],
   "source": [
    "# !pip install gensim"
   ]
  },
  {
   "cell_type": "code",
   "execution_count": 3,
   "metadata": {},
   "outputs": [],
   "source": [
    "# !pip install pyLDAvis"
   ]
  },
  {
   "cell_type": "code",
   "execution_count": 4,
   "metadata": {},
   "outputs": [],
   "source": [
    "# !pip install wordcloud"
   ]
  },
  {
   "cell_type": "code",
   "execution_count": 5,
   "metadata": {},
   "outputs": [
    {
     "name": "stderr",
     "output_type": "stream",
     "text": [
      "<ipython-input-5-2c62f8afbcba>:4: FutureWarning: Passing a negative integer is deprecated in version 1.0 and will not be supported in future version. Instead, use None to not limit the column width.\n",
      "  pd.set_option('display.max_colwidth',-1)\n"
     ]
    }
   ],
   "source": [
    "#importing libraries\n",
    "import numpy as np\n",
    "import pandas as pd\n",
    "pd.set_option('display.max_colwidth',-1)\n",
    "pd.set_option('display.max_rows', 100)\n",
    "import matplotlib.pyplot as plt\n",
    "import seaborn as sns\n",
    "import datetime\n",
    "from progressbar import ProgressBar\n",
    "\n",
    "# Library to scrape Google Play\n",
    "from google_play_scraper import Sort, reviews\n",
    "\n",
    "# NLP libraries\n",
    "import re\n",
    "import nltk\n",
    "import spacy\n",
    "from bs4 import BeautifulSoup\n",
    "from nltk.corpus import stopwords\n",
    "from nltk.stem import WordNetLemmatizer\n",
    "from nltk.tokenize import RegexpTokenizer\n",
    "from nltk.stem.porter import PorterStemmer\n",
    "\n",
    "# Libraries for topic modeling\n",
    "from pprint import pprint\n",
    "import gensim, spacy\n",
    "import gensim.corpora as corpora\n",
    "from gensim.utils import lemmatize, simple_preprocess\n",
    "from wordcloud import WordCloud, STOPWORDS\n",
    "import matplotlib.colors as mcolors\n",
    "from nltk.corpus import stopwords\n",
    "import pyLDAvis.gensim\n",
    "\n",
    "\n",
    "import warnings\n",
    "warnings.filterwarnings(\"ignore\", category=DeprecationWarning) "
   ]
  },
  {
   "cell_type": "code",
   "execution_count": 6,
   "metadata": {},
   "outputs": [],
   "source": [
    "# Function to scrape reviews on google play store\n",
    "# score: number of stars rated by users\n",
    "# n_loops: the number of loops to collect reviews in batches of 200\n",
    "app_reviews = []\n",
    "def googleplay_scraper(score, n_loops):\n",
    "    for i in range(n_loops):\n",
    "        rvs, continuation_token = reviews('com.thecarousell.Carousell',\n",
    "                                          lang='en',\n",
    "                                          country='sg',\n",
    "                                          sort=Sort.NEWEST,\n",
    "                                          count=200,\n",
    "                                          filter_score_with=score,\n",
    "                                          continuation_token=None if i==0 else continuation_token) # To begin crawling from where it last left off\n",
    "        app_reviews.extend(rvs)\n",
    "        print('No. of reviews collected: ' + str(len(rvs)))"
   ]
  },
  {
   "cell_type": "code",
   "execution_count": 7,
   "metadata": {
    "scrolled": true
   },
   "outputs": [],
   "source": [
    "# Collect reviews that were rated 5 star (10000)\n",
    "# googleplay_scraper(score=5, n_loops=50)"
   ]
  },
  {
   "cell_type": "code",
   "execution_count": 8,
   "metadata": {},
   "outputs": [],
   "source": [
    "# # Collect reviews that were rated 4 star (269)\n",
    "# googleplay_scraper(score=4, n_loops=10)"
   ]
  },
  {
   "cell_type": "code",
   "execution_count": 9,
   "metadata": {},
   "outputs": [],
   "source": [
    "# # Collect reviews that were rated 3 star (2575)\n",
    "# googleplay_scraper(score=3, n_loops=12)"
   ]
  },
  {
   "cell_type": "code",
   "execution_count": 10,
   "metadata": {},
   "outputs": [],
   "source": [
    "# # Collect reviews that were rated 2 star (1726)\n",
    "# googleplay_scraper(score=2, n_loops=9)"
   ]
  },
  {
   "cell_type": "code",
   "execution_count": 11,
   "metadata": {},
   "outputs": [],
   "source": [
    "# # Collect reviews that were rated 1 star (4000)\n",
    "# googleplay_scraper(score=1, n_loops=20)"
   ]
  },
  {
   "cell_type": "code",
   "execution_count": 12,
   "metadata": {},
   "outputs": [],
   "source": [
    "# pd.DataFrame(app_reviews).to_csv('carousell_appreviews.csv')"
   ]
  },
  {
   "cell_type": "code",
   "execution_count": 13,
   "metadata": {},
   "outputs": [],
   "source": [
    "df = pd.read_csv('carousell_appreviews.csv', parse_dates=['at','repliedAt'],index_col=0)"
   ]
  },
  {
   "cell_type": "code",
   "execution_count": 14,
   "metadata": {},
   "outputs": [
    {
     "data": {
      "text/html": [
       "<div>\n",
       "<style scoped>\n",
       "    .dataframe tbody tr th:only-of-type {\n",
       "        vertical-align: middle;\n",
       "    }\n",
       "\n",
       "    .dataframe tbody tr th {\n",
       "        vertical-align: top;\n",
       "    }\n",
       "\n",
       "    .dataframe thead th {\n",
       "        text-align: right;\n",
       "    }\n",
       "</style>\n",
       "<table border=\"1\" class=\"dataframe\">\n",
       "  <thead>\n",
       "    <tr style=\"text-align: right;\">\n",
       "      <th></th>\n",
       "      <th>reviewId</th>\n",
       "      <th>userName</th>\n",
       "      <th>userImage</th>\n",
       "      <th>content</th>\n",
       "      <th>score</th>\n",
       "      <th>thumbsUpCount</th>\n",
       "      <th>reviewCreatedVersion</th>\n",
       "      <th>at</th>\n",
       "      <th>replyContent</th>\n",
       "      <th>repliedAt</th>\n",
       "    </tr>\n",
       "  </thead>\n",
       "  <tbody>\n",
       "    <tr>\n",
       "      <th>0</th>\n",
       "      <td>gp:AOqpTOGgTfx2GgAOGAny8VIoUbJwOqzBr0VkVBs9nDM41Wf9NX-Z-ikQcuzv6aILoMabl7UxF1TYbjAGxBAf8Q</td>\n",
       "      <td>Melanie Gonzales</td>\n",
       "      <td>https://play-lh.googleusercontent.com/-421oOIvWRDs/AAAAAAAAAAI/AAAAAAAAAAA/AMZuucm3MxvHFeuEFjRVWb9JIoeJg3JBIw/photo.jpg</td>\n",
       "      <td>Super Thank you.. kakapost kulang may buyer na agad ako</td>\n",
       "      <td>5</td>\n",
       "      <td>0</td>\n",
       "      <td>2.196.865.857</td>\n",
       "      <td>2021-01-24 14:59:23</td>\n",
       "      <td>NaN</td>\n",
       "      <td>NaT</td>\n",
       "    </tr>\n",
       "    <tr>\n",
       "      <th>1</th>\n",
       "      <td>gp:AOqpTOE1iWml800WvcBvrejM1DKVoyMGv8rH1gvU4TiS1u2upYlgv-2gRBO_Dk5B0FA8W-wYhdvkeI1oY4oHXQ</td>\n",
       "      <td>Christopher De Ocampo</td>\n",
       "      <td>https://play-lh.googleusercontent.com/a-/AOh14Ggd4sJarHxEJjARCq_CJvEkFXYX_iDgg0XYdKKhMA</td>\n",
       "      <td>D best</td>\n",
       "      <td>5</td>\n",
       "      <td>0</td>\n",
       "      <td>2.196.865.857</td>\n",
       "      <td>2021-01-24 14:42:43</td>\n",
       "      <td>NaN</td>\n",
       "      <td>NaT</td>\n",
       "    </tr>\n",
       "    <tr>\n",
       "      <th>2</th>\n",
       "      <td>gp:AOqpTOE880B1xYEXiJhEjozEPBmp3rAigjZFyvIruWDUWMZFr5LFv1JCu2Kp8iqFBDXA1GvtdrApVixh7nofIw</td>\n",
       "      <td>Riki Lam</td>\n",
       "      <td>https://play-lh.googleusercontent.com/a-/AOh14Gg0BWKmmDx480WzBbfgvfTZUwttLpked7W3AZ6eMaA</td>\n",
       "      <td>Quite good once you get the hang of it.</td>\n",
       "      <td>5</td>\n",
       "      <td>0</td>\n",
       "      <td>2.196.865.857</td>\n",
       "      <td>2021-01-24 13:53:41</td>\n",
       "      <td>NaN</td>\n",
       "      <td>NaT</td>\n",
       "    </tr>\n",
       "    <tr>\n",
       "      <th>3</th>\n",
       "      <td>gp:AOqpTOHe0b5CfdHWeFsbNJmQ4elG-i5Gzqbocwfxk4ihaN_22VJHmcnEONn9aIk6jK4SNJWrpGiUtXXQkVwkFQ</td>\n",
       "      <td>kitman tang</td>\n",
       "      <td>https://play-lh.googleusercontent.com/-C6QUVgmyMvs/AAAAAAAAAAI/AAAAAAAAAAA/AMZuucnuSR9GpD_q-pKMKR9u88ZAADHWdw/photo.jpg</td>\n",
       "      <td>good app</td>\n",
       "      <td>5</td>\n",
       "      <td>0</td>\n",
       "      <td>2.196.865.857</td>\n",
       "      <td>2021-01-24 13:42:04</td>\n",
       "      <td>NaN</td>\n",
       "      <td>NaT</td>\n",
       "    </tr>\n",
       "    <tr>\n",
       "      <th>4</th>\n",
       "      <td>gp:AOqpTOEFQB_EECTinlxFqhoh4jlVaF24aVJzawI9yMQF2J9BNyGg8-cIdjNoM_UiF5rtkpo5ShT4JzHP73WfEg</td>\n",
       "      <td>Lee KM</td>\n",
       "      <td>https://play-lh.googleusercontent.com/-YTIYaDGzYqg/AAAAAAAAAAI/AAAAAAAAAAA/AMZuucmtzcX4lFeM6ydPxXSN8lRvsNmm3Q/photo.jpg</td>\n",
       "      <td>Faster way selling of my staff</td>\n",
       "      <td>5</td>\n",
       "      <td>0</td>\n",
       "      <td>2.196.865.857</td>\n",
       "      <td>2021-01-24 13:26:55</td>\n",
       "      <td>NaN</td>\n",
       "      <td>NaT</td>\n",
       "    </tr>\n",
       "  </tbody>\n",
       "</table>\n",
       "</div>"
      ],
      "text/plain": [
       "                                                                                    reviewId  \\\n",
       "0  gp:AOqpTOGgTfx2GgAOGAny8VIoUbJwOqzBr0VkVBs9nDM41Wf9NX-Z-ikQcuzv6aILoMabl7UxF1TYbjAGxBAf8Q   \n",
       "1  gp:AOqpTOE1iWml800WvcBvrejM1DKVoyMGv8rH1gvU4TiS1u2upYlgv-2gRBO_Dk5B0FA8W-wYhdvkeI1oY4oHXQ   \n",
       "2  gp:AOqpTOE880B1xYEXiJhEjozEPBmp3rAigjZFyvIruWDUWMZFr5LFv1JCu2Kp8iqFBDXA1GvtdrApVixh7nofIw   \n",
       "3  gp:AOqpTOHe0b5CfdHWeFsbNJmQ4elG-i5Gzqbocwfxk4ihaN_22VJHmcnEONn9aIk6jK4SNJWrpGiUtXXQkVwkFQ   \n",
       "4  gp:AOqpTOEFQB_EECTinlxFqhoh4jlVaF24aVJzawI9yMQF2J9BNyGg8-cIdjNoM_UiF5rtkpo5ShT4JzHP73WfEg   \n",
       "\n",
       "                userName  \\\n",
       "0  Melanie Gonzales        \n",
       "1  Christopher De Ocampo   \n",
       "2  Riki Lam                \n",
       "3  kitman tang             \n",
       "4  Lee KM                  \n",
       "\n",
       "                                                                                                                 userImage  \\\n",
       "0  https://play-lh.googleusercontent.com/-421oOIvWRDs/AAAAAAAAAAI/AAAAAAAAAAA/AMZuucm3MxvHFeuEFjRVWb9JIoeJg3JBIw/photo.jpg   \n",
       "1  https://play-lh.googleusercontent.com/a-/AOh14Ggd4sJarHxEJjARCq_CJvEkFXYX_iDgg0XYdKKhMA                                   \n",
       "2  https://play-lh.googleusercontent.com/a-/AOh14Gg0BWKmmDx480WzBbfgvfTZUwttLpked7W3AZ6eMaA                                  \n",
       "3  https://play-lh.googleusercontent.com/-C6QUVgmyMvs/AAAAAAAAAAI/AAAAAAAAAAA/AMZuucnuSR9GpD_q-pKMKR9u88ZAADHWdw/photo.jpg   \n",
       "4  https://play-lh.googleusercontent.com/-YTIYaDGzYqg/AAAAAAAAAAI/AAAAAAAAAAA/AMZuucmtzcX4lFeM6ydPxXSN8lRvsNmm3Q/photo.jpg   \n",
       "\n",
       "                                                   content  score  \\\n",
       "0  Super Thank you.. kakapost kulang may buyer na agad ako  5       \n",
       "1  D best                                                   5       \n",
       "2  Quite good once you get the hang of it.                  5       \n",
       "3  good app                                                 5       \n",
       "4  Faster way selling of my staff                           5       \n",
       "\n",
       "   thumbsUpCount reviewCreatedVersion                  at replyContent  \\\n",
       "0  0              2.196.865.857       2021-01-24 14:59:23  NaN           \n",
       "1  0              2.196.865.857       2021-01-24 14:42:43  NaN           \n",
       "2  0              2.196.865.857       2021-01-24 13:53:41  NaN           \n",
       "3  0              2.196.865.857       2021-01-24 13:42:04  NaN           \n",
       "4  0              2.196.865.857       2021-01-24 13:26:55  NaN           \n",
       "\n",
       "  repliedAt  \n",
       "0 NaT        \n",
       "1 NaT        \n",
       "2 NaT        \n",
       "3 NaT        \n",
       "4 NaT        "
      ]
     },
     "execution_count": 14,
     "metadata": {},
     "output_type": "execute_result"
    }
   ],
   "source": [
    "df.head()"
   ]
  },
  {
   "cell_type": "code",
   "execution_count": 15,
   "metadata": {},
   "outputs": [
    {
     "data": {
      "text/plain": [
       "0"
      ]
     },
     "execution_count": 15,
     "metadata": {},
     "output_type": "execute_result"
    }
   ],
   "source": [
    "#removing duplicates\n",
    "df.duplicated().sum()"
   ]
  },
  {
   "cell_type": "code",
   "execution_count": 16,
   "metadata": {},
   "outputs": [
    {
     "data": {
      "text/plain": [
       "5    10000\n",
       "1    4000 \n",
       "3    2379 \n",
       "4    2000 \n",
       "2    1729 \n",
       "Name: score, dtype: int64"
      ]
     },
     "execution_count": 16,
     "metadata": {},
     "output_type": "execute_result"
    }
   ],
   "source": [
    "df['score'].value_counts()"
   ]
  },
  {
   "cell_type": "markdown",
   "metadata": {},
   "source": [
    "# EDA"
   ]
  },
  {
   "cell_type": "code",
   "execution_count": 17,
   "metadata": {},
   "outputs": [
    {
     "data": {
      "image/png": "[encoded data removed]",
      "text/plain": [
       "<Figure size 1152x648 with 1 Axes>"
      ]
     },
     "metadata": {
      "needs_background": "light"
     },
     "output_type": "display_data"
    }
   ],
   "source": [
    "# distribution of score\n",
    "plt.figure(figsize=(16,9))\n",
    "plt.title('Distribution of score for 2020', fontsize=30)\n",
    "sns.countplot(y=df[df['at'] >= pd.Timestamp(2020,1,1)]['score'])\n",
    "sns.set(font_scale=2)\n",
    "sns.set()"
   ]
  },
  {
   "cell_type": "code",
   "execution_count": 18,
   "metadata": {},
   "outputs": [],
   "source": [
    "# creating target variable.\n",
    "# score of 5 and 4 will be classified as positive (1)\n",
    "# while score of 3,2,1 will be scored as negative (0)\n",
    "df['target'] = df['score'].map(lambda x: 1 if x==5 else 0)"
   ]
  },
  {
   "cell_type": "code",
   "execution_count": 19,
   "metadata": {},
   "outputs": [
    {
     "data": {
      "text/plain": [
       "0    0.502685\n",
       "1    0.497315\n",
       "Name: target, dtype: float64"
      ]
     },
     "execution_count": 19,
     "metadata": {},
     "output_type": "execute_result"
    }
   ],
   "source": [
    "df['target'].value_counts(normalize=True)"
   ]
  },
  {
   "cell_type": "code",
   "execution_count": 20,
   "metadata": {},
   "outputs": [
    {
     "data": {
      "text/plain": [
       "5    0.716835\n",
       "1    0.132747\n",
       "4    0.087285\n",
       "3    0.032765\n",
       "2    0.030368\n",
       "Name: score, dtype: float64"
      ]
     },
     "execution_count": 20,
     "metadata": {},
     "output_type": "execute_result"
    }
   ],
   "source": [
    "df[df['at'] >= pd.Timestamp(2020,1,1)]['score'].value_counts(normalize=True)"
   ]
  },
  {
   "cell_type": "code",
   "execution_count": 21,
   "metadata": {},
   "outputs": [
    {
     "data": {
      "text/plain": [
       "1    8073\n",
       "0    3189\n",
       "Name: target, dtype: int64"
      ]
     },
     "execution_count": 21,
     "metadata": {},
     "output_type": "execute_result"
    }
   ],
   "source": [
    "df[df['at'] >= pd.Timestamp(2020,1,1)]['target'].value_counts()"
   ]
  },
  {
   "cell_type": "code",
   "execution_count": 22,
   "metadata": {},
   "outputs": [
    {
     "data": {
      "image/png": "[encoded data removed]",
      "text/plain": [
       "<Figure size 1152x648 with 1 Axes>"
      ]
     },
     "metadata": {},
     "output_type": "display_data"
    }
   ],
   "source": [
    "# distribution of score\n",
    "plt.figure(figsize=(16,9))\n",
    "plt.title('Distribution of score', fontsize=30)\n",
    "sns.countplot(y=df[df['at'] >= pd.Timestamp(2020,1,1)]['score'])\n",
    "sns.set(font_scale=2)"
   ]
  },
  {
   "cell_type": "code",
   "execution_count": 23,
   "metadata": {},
   "outputs": [],
   "source": [
    "# change of review over time\n",
    "def subplot_hist(main_title, list_of_titles, xlabels):\n",
    "    fig, ax = plt.subplots(5, 1, figsize=(10,16), sharex=True, sharey=True)\n",
    "    for i in range(5):\n",
    "        ax[i].hist(df[(df['score']==i+1) & (df['at'] >= pd.Timestamp(2020,1,1))]['at'], bins=50)\n",
    "        ax[i].set_title(list_of_titles[i], weight='bold', fontsize=13)\n",
    "        ax[i].set_xlabel(xlabels, fontsize=13)\n",
    "        ax[i].set_ylabel('Frequency', fontsize=13)\n",
    "        ax[i].set\n",
    "    fig.suptitle(main_title, fontsize=15, weight='bold')\n",
    "    fig.tight_layout()\n",
    "    fig.subplots_adjust(top=0.9)"
   ]
  },
  {
   "cell_type": "code",
   "execution_count": 24,
   "metadata": {},
   "outputs": [
    {
     "data": {
      "image/png": "[encoded data removed]",
      "text/plain": [
       "<Figure size 720x1152 with 5 Axes>"
      ]
     },
     "metadata": {},
     "output_type": "display_data"
    }
   ],
   "source": [
    "subplot_hist('Customer ratings over time',\n",
    "            ['1-Star Rating','2-Star Rating','3-Star Rating','4-Star Rating','5-Star Rating'],\n",
    "             'Dates')"
   ]
  },
  {
   "cell_type": "code",
   "execution_count": 25,
   "metadata": {},
   "outputs": [
    {
     "data": {
      "text/html": [
       "<div>\n",
       "<style scoped>\n",
       "    .dataframe tbody tr th:only-of-type {\n",
       "        vertical-align: middle;\n",
       "    }\n",
       "\n",
       "    .dataframe tbody tr th {\n",
       "        vertical-align: top;\n",
       "    }\n",
       "\n",
       "    .dataframe thead th {\n",
       "        text-align: right;\n",
       "    }\n",
       "</style>\n",
       "<table border=\"1\" class=\"dataframe\">\n",
       "  <thead>\n",
       "    <tr style=\"text-align: right;\">\n",
       "      <th></th>\n",
       "      <th>reviewId</th>\n",
       "      <th>userName</th>\n",
       "      <th>userImage</th>\n",
       "      <th>content</th>\n",
       "      <th>score</th>\n",
       "      <th>thumbsUpCount</th>\n",
       "      <th>reviewCreatedVersion</th>\n",
       "      <th>at</th>\n",
       "      <th>replyContent</th>\n",
       "      <th>repliedAt</th>\n",
       "      <th>target</th>\n",
       "    </tr>\n",
       "  </thead>\n",
       "  <tbody>\n",
       "  </tbody>\n",
       "</table>\n",
       "</div>"
      ],
      "text/plain": [
       "Empty DataFrame\n",
       "Columns: [reviewId, userName, userImage, content, score, thumbsUpCount, reviewCreatedVersion, at, replyContent, repliedAt, target]\n",
       "Index: []"
      ]
     },
     "execution_count": 25,
     "metadata": {},
     "output_type": "execute_result"
    }
   ],
   "source": [
    "# same id?\n",
    "df[df.duplicated('reviewId')]"
   ]
  },
  {
   "cell_type": "code",
   "execution_count": 26,
   "metadata": {},
   "outputs": [
    {
     "data": {
      "text/html": [
       "<div>\n",
       "<style scoped>\n",
       "    .dataframe tbody tr th:only-of-type {\n",
       "        vertical-align: middle;\n",
       "    }\n",
       "\n",
       "    .dataframe tbody tr th {\n",
       "        vertical-align: top;\n",
       "    }\n",
       "\n",
       "    .dataframe thead th {\n",
       "        text-align: right;\n",
       "    }\n",
       "</style>\n",
       "<table border=\"1\" class=\"dataframe\">\n",
       "  <thead>\n",
       "    <tr style=\"text-align: right;\">\n",
       "      <th></th>\n",
       "      <th>reviewId</th>\n",
       "      <th>userName</th>\n",
       "      <th>userImage</th>\n",
       "      <th>content</th>\n",
       "      <th>score</th>\n",
       "      <th>thumbsUpCount</th>\n",
       "      <th>reviewCreatedVersion</th>\n",
       "      <th>at</th>\n",
       "      <th>replyContent</th>\n",
       "      <th>repliedAt</th>\n",
       "      <th>target</th>\n",
       "    </tr>\n",
       "  </thead>\n",
       "  <tbody>\n",
       "    <tr>\n",
       "      <th>0</th>\n",
       "      <td>gp:AOqpTOGgTfx2GgAOGAny8VIoUbJwOqzBr0VkVBs9nDM41Wf9NX-Z-ikQcuzv6aILoMabl7UxF1TYbjAGxBAf8Q</td>\n",
       "      <td>Melanie Gonzales</td>\n",
       "      <td>https://play-lh.googleusercontent.com/-421oOIvWRDs/AAAAAAAAAAI/AAAAAAAAAAA/AMZuucm3MxvHFeuEFjRVWb9JIoeJg3JBIw/photo.jpg</td>\n",
       "      <td>Super Thank you.. kakapost kulang may buyer na agad ako</td>\n",
       "      <td>5</td>\n",
       "      <td>0</td>\n",
       "      <td>2.196.865.857</td>\n",
       "      <td>2021-01-24 14:59:23</td>\n",
       "      <td>NaN</td>\n",
       "      <td>NaT</td>\n",
       "      <td>1</td>\n",
       "    </tr>\n",
       "    <tr>\n",
       "      <th>1</th>\n",
       "      <td>gp:AOqpTOE1iWml800WvcBvrejM1DKVoyMGv8rH1gvU4TiS1u2upYlgv-2gRBO_Dk5B0FA8W-wYhdvkeI1oY4oHXQ</td>\n",
       "      <td>Christopher De Ocampo</td>\n",
       "      <td>https://play-lh.googleusercontent.com/a-/AOh14Ggd4sJarHxEJjARCq_CJvEkFXYX_iDgg0XYdKKhMA</td>\n",
       "      <td>D best</td>\n",
       "      <td>5</td>\n",
       "      <td>0</td>\n",
       "      <td>2.196.865.857</td>\n",
       "      <td>2021-01-24 14:42:43</td>\n",
       "      <td>NaN</td>\n",
       "      <td>NaT</td>\n",
       "      <td>1</td>\n",
       "    </tr>\n",
       "    <tr>\n",
       "      <th>2</th>\n",
       "      <td>gp:AOqpTOE880B1xYEXiJhEjozEPBmp3rAigjZFyvIruWDUWMZFr5LFv1JCu2Kp8iqFBDXA1GvtdrApVixh7nofIw</td>\n",
       "      <td>Riki Lam</td>\n",
       "      <td>https://play-lh.googleusercontent.com/a-/AOh14Gg0BWKmmDx480WzBbfgvfTZUwttLpked7W3AZ6eMaA</td>\n",
       "      <td>Quite good once you get the hang of it.</td>\n",
       "      <td>5</td>\n",
       "      <td>0</td>\n",
       "      <td>2.196.865.857</td>\n",
       "      <td>2021-01-24 13:53:41</td>\n",
       "      <td>NaN</td>\n",
       "      <td>NaT</td>\n",
       "      <td>1</td>\n",
       "    </tr>\n",
       "    <tr>\n",
       "      <th>3</th>\n",
       "      <td>gp:AOqpTOHe0b5CfdHWeFsbNJmQ4elG-i5Gzqbocwfxk4ihaN_22VJHmcnEONn9aIk6jK4SNJWrpGiUtXXQkVwkFQ</td>\n",
       "      <td>kitman tang</td>\n",
       "      <td>https://play-lh.googleusercontent.com/-C6QUVgmyMvs/AAAAAAAAAAI/AAAAAAAAAAA/AMZuucnuSR9GpD_q-pKMKR9u88ZAADHWdw/photo.jpg</td>\n",
       "      <td>good app</td>\n",
       "      <td>5</td>\n",
       "      <td>0</td>\n",
       "      <td>2.196.865.857</td>\n",
       "      <td>2021-01-24 13:42:04</td>\n",
       "      <td>NaN</td>\n",
       "      <td>NaT</td>\n",
       "      <td>1</td>\n",
       "    </tr>\n",
       "    <tr>\n",
       "      <th>4</th>\n",
       "      <td>gp:AOqpTOEFQB_EECTinlxFqhoh4jlVaF24aVJzawI9yMQF2J9BNyGg8-cIdjNoM_UiF5rtkpo5ShT4JzHP73WfEg</td>\n",
       "      <td>Lee KM</td>\n",
       "      <td>https://play-lh.googleusercontent.com/-YTIYaDGzYqg/AAAAAAAAAAI/AAAAAAAAAAA/AMZuucmtzcX4lFeM6ydPxXSN8lRvsNmm3Q/photo.jpg</td>\n",
       "      <td>Faster way selling of my staff</td>\n",
       "      <td>5</td>\n",
       "      <td>0</td>\n",
       "      <td>2.196.865.857</td>\n",
       "      <td>2021-01-24 13:26:55</td>\n",
       "      <td>NaN</td>\n",
       "      <td>NaT</td>\n",
       "      <td>1</td>\n",
       "    </tr>\n",
       "  </tbody>\n",
       "</table>\n",
       "</div>"
      ],
      "text/plain": [
       "                                                                                    reviewId  \\\n",
       "0  gp:AOqpTOGgTfx2GgAOGAny8VIoUbJwOqzBr0VkVBs9nDM41Wf9NX-Z-ikQcuzv6aILoMabl7UxF1TYbjAGxBAf8Q   \n",
       "1  gp:AOqpTOE1iWml800WvcBvrejM1DKVoyMGv8rH1gvU4TiS1u2upYlgv-2gRBO_Dk5B0FA8W-wYhdvkeI1oY4oHXQ   \n",
       "2  gp:AOqpTOE880B1xYEXiJhEjozEPBmp3rAigjZFyvIruWDUWMZFr5LFv1JCu2Kp8iqFBDXA1GvtdrApVixh7nofIw   \n",
       "3  gp:AOqpTOHe0b5CfdHWeFsbNJmQ4elG-i5Gzqbocwfxk4ihaN_22VJHmcnEONn9aIk6jK4SNJWrpGiUtXXQkVwkFQ   \n",
       "4  gp:AOqpTOEFQB_EECTinlxFqhoh4jlVaF24aVJzawI9yMQF2J9BNyGg8-cIdjNoM_UiF5rtkpo5ShT4JzHP73WfEg   \n",
       "\n",
       "                userName  \\\n",
       "0  Melanie Gonzales        \n",
       "1  Christopher De Ocampo   \n",
       "2  Riki Lam                \n",
       "3  kitman tang             \n",
       "4  Lee KM                  \n",
       "\n",
       "                                                                                                                 userImage  \\\n",
       "0  https://play-lh.googleusercontent.com/-421oOIvWRDs/AAAAAAAAAAI/AAAAAAAAAAA/AMZuucm3MxvHFeuEFjRVWb9JIoeJg3JBIw/photo.jpg   \n",
       "1  https://play-lh.googleusercontent.com/a-/AOh14Ggd4sJarHxEJjARCq_CJvEkFXYX_iDgg0XYdKKhMA                                   \n",
       "2  https://play-lh.googleusercontent.com/a-/AOh14Gg0BWKmmDx480WzBbfgvfTZUwttLpked7W3AZ6eMaA                                  \n",
       "3  https://play-lh.googleusercontent.com/-C6QUVgmyMvs/AAAAAAAAAAI/AAAAAAAAAAA/AMZuucnuSR9GpD_q-pKMKR9u88ZAADHWdw/photo.jpg   \n",
       "4  https://play-lh.googleusercontent.com/-YTIYaDGzYqg/AAAAAAAAAAI/AAAAAAAAAAA/AMZuucmtzcX4lFeM6ydPxXSN8lRvsNmm3Q/photo.jpg   \n",
       "\n",
       "                                                   content  score  \\\n",
       "0  Super Thank you.. kakapost kulang may buyer na agad ako  5       \n",
       "1  D best                                                   5       \n",
       "2  Quite good once you get the hang of it.                  5       \n",
       "3  good app                                                 5       \n",
       "4  Faster way selling of my staff                           5       \n",
       "\n",
       "   thumbsUpCount reviewCreatedVersion                  at replyContent  \\\n",
       "0  0              2.196.865.857       2021-01-24 14:59:23  NaN           \n",
       "1  0              2.196.865.857       2021-01-24 14:42:43  NaN           \n",
       "2  0              2.196.865.857       2021-01-24 13:53:41  NaN           \n",
       "3  0              2.196.865.857       2021-01-24 13:42:04  NaN           \n",
       "4  0              2.196.865.857       2021-01-24 13:26:55  NaN           \n",
       "\n",
       "  repliedAt  target  \n",
       "0 NaT        1       \n",
       "1 NaT        1       \n",
       "2 NaT        1       \n",
       "3 NaT        1       \n",
       "4 NaT        1       "
      ]
     },
     "execution_count": 26,
     "metadata": {},
     "output_type": "execute_result"
    }
   ],
   "source": [
    "df.head()"
   ]
  },
  {
   "cell_type": "markdown",
   "metadata": {},
   "source": [
    "# pre-processing"
   ]
  },
  {
   "cell_type": "code",
   "execution_count": 27,
   "metadata": {},
   "outputs": [],
   "source": [
    "# !python -m spacy download en_core_web_sm\n"
   ]
  },
  {
   "cell_type": "code",
   "execution_count": 28,
   "metadata": {},
   "outputs": [],
   "source": [
    "import spacy\n",
    "nlp = spacy.load('en_core_web_sm')"
   ]
  },
  {
   "cell_type": "code",
   "execution_count": 29,
   "metadata": {},
   "outputs": [],
   "source": [
    "# Create a list of all the textual data from negative reviews\n",
    "data = df[df['target']==0]['content'].values.tolist()"
   ]
  },
  {
   "cell_type": "code",
   "execution_count": 30,
   "metadata": {},
   "outputs": [],
   "source": [
    "# Assign NLTK's stopwords to stop_words\n",
    "stop_words = stopwords.words('english')\n",
    "\n",
    "# Include frequently occuring words like\n",
    "# stop_words.extend(['app', 'even'])"
   ]
  },
  {
   "cell_type": "code",
   "execution_count": 31,
   "metadata": {},
   "outputs": [],
   "source": [
    "# Remove stopwords, lemmatize and only keep tokens that fall into these part of speech tags\n",
    "def process_words(texts, stop_words=stop_words, allowed_postags=['NOUN', 'ADJ', 'VERB', 'ADV']):\n",
    "\n",
    "    texts = [[word for word in simple_preprocess(str(doc)) if word not in stop_words] for doc in texts]\n",
    "    texts_out = []\n",
    "    nlp = spacy.load('en_core_web_sm', disable=['parser', 'ner'])\n",
    "    for sent in texts:\n",
    "        doc = nlp(\" \".join(sent)) \n",
    "        # Lemmatize and only keep tokens that have certain part of speech tags\n",
    "        texts_out.append([token.lemma_ for token in doc if token.pos_ in allowed_postags]) \n",
    "    # Remove stopwords once more after lemmatization\n",
    "    texts_out = [[word for word in simple_preprocess(str(doc)) if word not in stop_words] for doc in texts_out]    \n",
    "    return texts_out\n",
    "\n",
    "# Pre-processing text\n",
    "data_ready = process_words(data)"
   ]
  },
  {
   "cell_type": "code",
   "execution_count": 32,
   "metadata": {},
   "outputs": [
    {
     "name": "stdout",
     "output_type": "stream",
     "text": [
      "[(0,\n",
      "  '0.051*\"item\" + 0.033*\"sell\" + 0.028*\"get\" + 0.027*\"use\" + 0.022*\"bad\" + '\n",
      "  '0.022*\"post\" + 0.020*\"bump\" + 0.017*\"money\" + 0.016*\"good\" + 0.015*\"pay\"'),\n",
      " (1,\n",
      "  '0.037*\"list\" + 0.030*\"even\" + 0.027*\"account\" + 0.025*\"fix\" + 0.022*\"try\" + '\n",
      "  '0.020*\"search\" + 0.020*\"keep\" + 0.017*\"use\" + 0.017*\"go\" + 0.017*\"say\"'),\n",
      " (2,\n",
      "  '0.064*\"app\" + 0.039*\"update\" + 0.027*\"seller\" + 0.025*\"carousell\" + '\n",
      "  '0.020*\"make\" + 0.017*\"version\" + 0.016*\"ad\" + 0.016*\"buyer\" + 0.015*\"user\" '\n",
      "  '+ 0.014*\"new\"')]\n"
     ]
    }
   ],
   "source": [
    "# Create Dictionary\n",
    "id2word = corpora.Dictionary(data_ready) \n",
    "\n",
    "# Create Corpus: Term Document Frequency\n",
    "corpus = [id2word.doc2bow(text) for text in data_ready]\n",
    "\n",
    "# Build LDA model\n",
    "lda_model = gensim.models.ldamodel.LdaModel(corpus=corpus,\n",
    "                                           id2word=id2word,\n",
    "                                           num_topics=3, # Number of topics\n",
    "                                           random_state=42,\n",
    "                                           update_every=1,\n",
    "                                           chunksize=10,\n",
    "                                           passes=10,\n",
    "                                           alpha='symmetric',\n",
    "                                           iterations=100,\n",
    "                                           per_word_topics=True)\n",
    "\n",
    "pprint(lda_model.print_topics())"
   ]
  },
  {
   "cell_type": "code",
   "execution_count": 33,
   "metadata": {},
   "outputs": [
    {
     "data": {
      "text/html": [
       "<div>\n",
       "<style scoped>\n",
       "    .dataframe tbody tr th:only-of-type {\n",
       "        vertical-align: middle;\n",
       "    }\n",
       "\n",
       "    .dataframe tbody tr th {\n",
       "        vertical-align: top;\n",
       "    }\n",
       "\n",
       "    .dataframe thead th {\n",
       "        text-align: right;\n",
       "    }\n",
       "</style>\n",
       "<table border=\"1\" class=\"dataframe\">\n",
       "  <thead>\n",
       "    <tr style=\"text-align: right;\">\n",
       "      <th></th>\n",
       "      <th>Document_No</th>\n",
       "      <th>Dominant_Topic</th>\n",
       "      <th>Topic_Perc_Contrib</th>\n",
       "      <th>Keywords</th>\n",
       "      <th>Text</th>\n",
       "    </tr>\n",
       "  </thead>\n",
       "  <tbody>\n",
       "    <tr>\n",
       "      <th>0</th>\n",
       "      <td>0</td>\n",
       "      <td>2.0</td>\n",
       "      <td>0.5368</td>\n",
       "      <td>app, update, seller, carousell, make, version, ad, buyer, user, new</td>\n",
       "      <td>[great, app, find, pre, love, item]</td>\n",
       "    </tr>\n",
       "    <tr>\n",
       "      <th>1</th>\n",
       "      <td>1</td>\n",
       "      <td>2.0</td>\n",
       "      <td>0.6323</td>\n",
       "      <td>app, update, seller, carousell, make, version, ad, buyer, user, new</td>\n",
       "      <td>[improve, much, time, easy, use, well, use, buyer, seller]</td>\n",
       "    </tr>\n",
       "    <tr>\n",
       "      <th>2</th>\n",
       "      <td>2</td>\n",
       "      <td>2.0</td>\n",
       "      <td>0.5816</td>\n",
       "      <td>app, update, seller, carousell, make, version, ad, buyer, user, new</td>\n",
       "      <td>[fast, sale, cliente, base]</td>\n",
       "    </tr>\n",
       "    <tr>\n",
       "      <th>3</th>\n",
       "      <td>3</td>\n",
       "      <td>2.0</td>\n",
       "      <td>0.7227</td>\n",
       "      <td>app, update, seller, carousell, make, version, ad, buyer, user, new</td>\n",
       "      <td>[great, app, work, really, well]</td>\n",
       "    </tr>\n",
       "    <tr>\n",
       "      <th>4</th>\n",
       "      <td>4</td>\n",
       "      <td>0.0</td>\n",
       "      <td>0.5168</td>\n",
       "      <td>item, sell, get, use, bad, post, bump, money, good, pay</td>\n",
       "      <td>[analytic, interface, easy, use, item, manage, sell, list, week]</td>\n",
       "    </tr>\n",
       "  </tbody>\n",
       "</table>\n",
       "</div>"
      ],
      "text/plain": [
       "   Document_No  Dominant_Topic  Topic_Perc_Contrib  \\\n",
       "0  0            2.0             0.5368               \n",
       "1  1            2.0             0.6323               \n",
       "2  2            2.0             0.5816               \n",
       "3  3            2.0             0.7227               \n",
       "4  4            0.0             0.5168               \n",
       "\n",
       "                                                              Keywords  \\\n",
       "0  app, update, seller, carousell, make, version, ad, buyer, user, new   \n",
       "1  app, update, seller, carousell, make, version, ad, buyer, user, new   \n",
       "2  app, update, seller, carousell, make, version, ad, buyer, user, new   \n",
       "3  app, update, seller, carousell, make, version, ad, buyer, user, new   \n",
       "4  item, sell, get, use, bad, post, bump, money, good, pay               \n",
       "\n",
       "                                                               Text  \n",
       "0  [great, app, find, pre, love, item]                               \n",
       "1  [improve, much, time, easy, use, well, use, buyer, seller]        \n",
       "2  [fast, sale, cliente, base]                                       \n",
       "3  [great, app, work, really, well]                                  \n",
       "4  [analytic, interface, easy, use, item, manage, sell, list, week]  "
      ]
     },
     "execution_count": 33,
     "metadata": {},
     "output_type": "execute_result"
    }
   ],
   "source": [
    "def format_topics_sentences(ldamodel, corpus, texts):\n",
    "    # Init output\n",
    "    sent_topics_df = pd.DataFrame()\n",
    "\n",
    "    # Get main topic in each document\n",
    "    for i, row_list in enumerate(ldamodel[corpus]):\n",
    "        row = row_list[0] if ldamodel.per_word_topics else row_list            \n",
    "        row = sorted(row, key=lambda x: (x[1]), reverse=True)\n",
    "        # Get the Dominant topic, Perc Contribution and Keywords for each document\n",
    "        for j, (topic_num, prop_topic) in enumerate(row):\n",
    "            if j == 0:  # => Dominant topic\n",
    "                wp = ldamodel.show_topic(topic_num)\n",
    "                topic_keywords = \", \".join([word for word, prop in wp])\n",
    "                sent_topics_df = sent_topics_df.append(pd.Series([int(topic_num), round(prop_topic,4), topic_keywords]), ignore_index=True)\n",
    "            else:\n",
    "                break\n",
    "    sent_topics_df.columns = ['Dominant_Topic', 'Perc_Contribution', 'Topic_Keywords']\n",
    "\n",
    "    # Add original text to the end of the output\n",
    "    contents = pd.Series(texts)\n",
    "    sent_topics_df = pd.concat([sent_topics_df, contents], axis=1)\n",
    "    return(sent_topics_df)\n",
    "\n",
    "\n",
    "df_topic_sents_keywords = format_topics_sentences(ldamodel=lda_model, corpus=corpus, texts=data_ready)\n",
    "\n",
    "# Formatting the table\n",
    "df_dominant_topic = df_topic_sents_keywords.reset_index()\n",
    "df_dominant_topic.columns = ['Document_No', 'Dominant_Topic', 'Topic_Perc_Contrib', 'Keywords', 'Text']\n",
    "df_dominant_topic.head()\n"
   ]
  },
  {
   "cell_type": "code",
   "execution_count": 34,
   "metadata": {},
   "outputs": [
    {
     "data": {
      "text/html": [
       "<div>\n",
       "<style scoped>\n",
       "    .dataframe tbody tr th:only-of-type {\n",
       "        vertical-align: middle;\n",
       "    }\n",
       "\n",
       "    .dataframe tbody tr th {\n",
       "        vertical-align: top;\n",
       "    }\n",
       "\n",
       "    .dataframe thead th {\n",
       "        text-align: right;\n",
       "    }\n",
       "</style>\n",
       "<table border=\"1\" class=\"dataframe\">\n",
       "  <thead>\n",
       "    <tr style=\"text-align: right;\">\n",
       "      <th></th>\n",
       "      <th>Topic_Num</th>\n",
       "      <th>Topic_Perc_Contrib</th>\n",
       "      <th>Keywords</th>\n",
       "      <th>Representative Text</th>\n",
       "    </tr>\n",
       "  </thead>\n",
       "  <tbody>\n",
       "    <tr>\n",
       "      <th>0</th>\n",
       "      <td>0.0</td>\n",
       "      <td>0.9597</td>\n",
       "      <td>item, sell, get, use, bad, post, bump, money, good, pay</td>\n",
       "      <td>[good, enough, far, good, outwear, fashion, good, enough, luxury, fashion, use, woman, watch, luxury, brand, woman, bag]</td>\n",
       "    </tr>\n",
       "    <tr>\n",
       "      <th>1</th>\n",
       "      <td>1.0</td>\n",
       "      <td>0.9639</td>\n",
       "      <td>list, even, account, fix, try, search, keep, use, go, say</td>\n",
       "      <td>[send, pic, chat, crop, pic, want, crop, keep, say, server, encounter, problem, everytime, try, send, uncropped, pic, fix]</td>\n",
       "    </tr>\n",
       "    <tr>\n",
       "      <th>2</th>\n",
       "      <td>2.0</td>\n",
       "      <td>0.9602</td>\n",
       "      <td>app, update, seller, carousell, make, version, ad, buyer, user, new</td>\n",
       "      <td>[app, great, well, could, delete, text, negotiating, may, make, mistake, spelling, mistake, thank, take, time, look, review]</td>\n",
       "    </tr>\n",
       "  </tbody>\n",
       "</table>\n",
       "</div>"
      ],
      "text/plain": [
       "   Topic_Num  Topic_Perc_Contrib  \\\n",
       "0  0.0        0.9597               \n",
       "1  1.0        0.9639               \n",
       "2  2.0        0.9602               \n",
       "\n",
       "                                                              Keywords  \\\n",
       "0  item, sell, get, use, bad, post, bump, money, good, pay               \n",
       "1  list, even, account, fix, try, search, keep, use, go, say             \n",
       "2  app, update, seller, carousell, make, version, ad, buyer, user, new   \n",
       "\n",
       "                                                                                                            Representative Text  \n",
       "0  [good, enough, far, good, outwear, fashion, good, enough, luxury, fashion, use, woman, watch, luxury, brand, woman, bag]      \n",
       "1  [send, pic, chat, crop, pic, want, crop, keep, say, server, encounter, problem, everytime, try, send, uncropped, pic, fix]    \n",
       "2  [app, great, well, could, delete, text, negotiating, may, make, mistake, spelling, mistake, thank, take, time, look, review]  "
      ]
     },
     "execution_count": 34,
     "metadata": {},
     "output_type": "execute_result"
    }
   ],
   "source": [
    "# Keywords of each dominant topic\n",
    "sent_topics_sorteddf_mallet = pd.DataFrame()\n",
    "sent_topics_outdf_grpd = df_topic_sents_keywords.groupby('Dominant_Topic') \n",
    "\n",
    "for i, grp in sent_topics_outdf_grpd:\n",
    "    sent_topics_sorteddf_mallet = pd.concat([sent_topics_sorteddf_mallet, \n",
    "                                             grp.sort_values(['Perc_Contribution'], ascending=False).head(1)], \n",
    "                                            axis=0)\n",
    "\n",
    "# Reset Index    \n",
    "sent_topics_sorteddf_mallet.reset_index(drop=True, inplace=True)\n",
    "\n",
    "# Format\n",
    "sent_topics_sorteddf_mallet.columns = ['Topic_Num', \"Topic_Perc_Contrib\", \"Keywords\", \"Representative Text\"]\n",
    "\n",
    "# Show the 3 topics\n",
    "sent_topics_sorteddf_mallet.head(10)\n"
   ]
  },
  {
   "cell_type": "markdown",
   "metadata": {},
   "source": [
    "# Topic Modelling"
   ]
  },
  {
   "cell_type": "code",
   "execution_count": 35,
   "metadata": {},
   "outputs": [
    {
     "data": {
      "image/png": "[encoded data removed]",
      "text/plain": [
       "<Figure size 1080x720 with 3 Axes>"
      ]
     },
     "metadata": {},
     "output_type": "display_data"
    }
   ],
   "source": [
    "# Wordcloud of Top 10 words in each topic\n",
    "\n",
    "cols = [color for name, color in mcolors.TABLEAU_COLORS.items()]  \n",
    "\n",
    "cloud = WordCloud(stopwords=stop_words,\n",
    "                  background_color='white',\n",
    "                  width=2500,\n",
    "                  height=1800,\n",
    "                  max_words=10,\n",
    "                  colormap='tab10',\n",
    "                  color_func=lambda *args, **kwargs: cols[i],\n",
    "                  prefer_horizontal=1.0)\n",
    "\n",
    "topics = lda_model.show_topics(formatted=False)\n",
    "\n",
    "fig, axes = plt.subplots(1, 3, figsize=(15,10), sharex=True, sharey=True)\n",
    "\n",
    "topic_names = ['Selling of items', 'Suspension of accounts/ scammers', 'App issues']\n",
    "\n",
    "for i, ax in enumerate(axes.flatten()):\n",
    "    fig.add_subplot(ax)\n",
    "    topic_words = dict(topics[i][1])\n",
    "    cloud.generate_from_frequencies(topic_words, max_font_size=300)\n",
    "    plt.gca().imshow(cloud)\n",
    "    plt.gca().set_title(topic_names[i], weight='bold', fontdict=dict(size=16))\n",
    "    plt.gca().axis('off')\n",
    "\n",
    "\n",
    "plt.subplots_adjust(wspace=0, hspace=0)\n",
    "plt.axis('off')\n",
    "plt.margins(x=0, y=0)\n",
    "plt.tight_layout()\n",
    "plt.show()\n"
   ]
  },
  {
   "cell_type": "code",
   "execution_count": 36,
   "metadata": {},
   "outputs": [
    {
     "data": {
      "text/html": [
       "\n",
       "<link rel=\"stylesheet\" type=\"text/css\" href=\"https://cdn.rawgit.com/bmabey/pyLDAvis/files/ldavis.v1.0.0.css\">\n",
       "\n",
       "\n",
       "<div id=\"ldavis_el2062424550980769605125485024\"></div>\n",
       "<script type=\"text/javascript\">\n",
       "\n",
       "var ldavis_el2062424550980769605125485024_data = {\"mdsDat\": {\"x\": [-0.3202791854896368, 0.16467961713197246, 0.15559956835766453], \"y\": [-0.005025319936388812, -0.26337336378404286, 0.26839868372043174], \"topics\": [1, 2, 3], \"cluster\": [1, 1, 1], \"Freq\": [38.5476253986541, 33.855344704020105, 27.597029897325797]}, \"tinfo\": {\"Term\": [\"app\", \"item\", \"update\", \"list\", \"sell\", \"even\", \"seller\", \"account\", \"fix\", \"carousell\", \"try\", \"bad\", \"get\", \"search\", \"use\", \"keep\", \"make\", \"bump\", \"say\", \"money\", \"listing\", \"version\", \"ad\", \"post\", \"buyer\", \"good\", \"wrong\", \"user\", \"show\", \"pay\", \"app\", \"carousell\", \"seller\", \"make\", \"buyer\", \"user\", \"ad\", \"update\", \"version\", \"see\", \"report\", \"late\", \"well\", \"also\", \"message\", \"stupid\", \"really\", \"notification\", \"reply\", \"old\", \"give\", \"delete\", \"support\", \"take\", \"much\", \"slow\", \"allow\", \"useless\", \"offer\", \"feedback\", \"previous\", \"help\", \"long\", \"new\", \"time\", \"many\", \"even\", \"fix\", \"account\", \"try\", \"keep\", \"search\", \"say\", \"wrong\", \"listing\", \"show\", \"problem\", \"error\", \"email\", \"suspend\", \"upload\", \"connection\", \"phone\", \"load\", \"photo\", \"issue\", \"log\", \"always\", \"list\", \"open\", \"unable\", \"work\", \"suck\", \"chat\", \"asap\", \"appear\", \"already\", \"day\", \"go\", \"use\", \"still\", \"time\", \"get\", \"new\", \"item\", \"sell\", \"bad\", \"bump\", \"money\", \"pay\", \"good\", \"buy\", \"scammer\", \"country\", \"people\", \"free\", \"customer\", \"platform\", \"location\", \"let\", \"option\", \"put\", \"service\", \"way\", \"price\", \"ban\", \"ask\", \"coin\", \"lot\", \"sale\", \"stuff\", \"choose\", \"place\", \"scam\", \"low\", \"browse\", \"first\", \"post\", \"get\", \"thing\", \"use\", \"many\", \"want\", \"find\"], \"Freq\": [2438.0, 1387.0, 1487.0, 1260.0, 904.0, 1011.0, 1044.0, 901.0, 843.0, 951.0, 744.0, 616.0, 1109.0, 674.0, 1335.0, 664.0, 756.0, 537.0, 561.0, 470.0, 560.0, 636.0, 621.0, 798.0, 604.0, 438.0, 509.0, 575.0, 496.0, 406.0, 2437.693824095499, 950.8008266784666, 1043.2873250072257, 755.9520042999384, 603.7019651812562, 574.8999613268666, 620.3097571204098, 1485.4703375789913, 635.2854125888858, 522.0724483455186, 365.91314063346243, 363.74505748568043, 370.85176599952064, 476.49407373809225, 465.4998636755277, 350.0835116342182, 321.7409313605213, 262.37942182898195, 287.99631210897553, 267.49888110443817, 283.211997633098, 305.2188894646934, 265.60947669114506, 282.54926059280444, 249.8816647354508, 228.5157428994993, 342.2367948528417, 236.92692439274663, 232.91767345762207, 208.31387701106124, 301.328680394867, 263.7245432501982, 243.50678848792415, 533.2581442755012, 395.34874005102046, 342.9415697207731, 1010.6330805282552, 842.3746445626178, 900.4347538343458, 744.246381627907, 663.7786641254148, 674.1906757627786, 560.3030329119064, 508.38180279846824, 559.862863126845, 495.81093170491584, 424.73070782428783, 363.243669644497, 428.8522464301302, 368.74622999991556, 352.8009950565106, 304.4935188288579, 332.2917676452678, 321.7714970189708, 441.2063492360152, 312.6100957248614, 277.8400618873289, 274.72292264673064, 1257.4877301917456, 268.4715605216158, 227.7078741434621, 321.33126465645927, 344.2111761929884, 225.97191309606563, 219.5630904617582, 205.5833350089056, 226.78466901991789, 269.9834942971158, 579.3391558555296, 587.921778312273, 337.80409008292537, 346.765368691134, 332.4119476384737, 280.1867475604442, 1386.5176311802697, 903.9301460282093, 615.7368396200415, 536.8161770371588, 469.32470204636076, 405.9669020023391, 437.99075527814233, 378.9436084158742, 329.81517472429726, 334.90477188564955, 329.46963485868696, 269.4255794691742, 258.4407120718634, 240.98398603131244, 282.4111247287576, 256.8393128186939, 252.71816075898676, 249.3978613550343, 279.74308665659714, 226.233937928319, 203.13255242236517, 208.3948047446452, 207.95466734718158, 195.18999418947186, 230.16171212700917, 202.64450414229532, 220.4066381486531, 180.27790094799636, 131.21093397299165, 122.81742428129589, 186.7277999053574, 171.2160618616702, 228.8103370325773, 600.2077965277259, 776.3310575326711, 255.64142598166111, 747.0746857845947, 382.04584125273425, 269.109319184736, 222.90575752211723], \"Total\": [2438.0, 1387.0, 1487.0, 1260.0, 904.0, 1011.0, 1044.0, 901.0, 843.0, 951.0, 744.0, 616.0, 1109.0, 674.0, 1335.0, 664.0, 756.0, 537.0, 561.0, 470.0, 560.0, 636.0, 621.0, 798.0, 604.0, 438.0, 509.0, 575.0, 496.0, 406.0, 2438.562992639197, 951.565947583159, 1044.1649514360013, 756.7294554585925, 604.4472819759701, 575.6516422855651, 621.1394271822105, 1487.5203993062305, 636.1785239283779, 523.0749752203675, 366.6492188167762, 364.5159797418742, 371.6496510770124, 477.6500607469918, 466.63733075827196, 350.94302607126065, 322.5411767397347, 263.0701132580041, 288.7749240076743, 268.22791688234577, 284.01238483599286, 306.10494831704546, 266.39466258341594, 283.3863044889356, 250.63668272641303, 229.20705779291532, 343.3362925504176, 237.70467714676494, 233.68457393753746, 209.00326571757554, 302.7005711288598, 264.67165347746186, 245.10658495839613, 813.858833772836, 742.4795548783032, 725.3469861053973, 1011.4316614604186, 843.0802554960337, 901.1981138733573, 744.9845758675558, 664.4797908188443, 674.9415036730012, 561.0207098091814, 509.10211137039363, 560.6967190286643, 496.567424304883, 425.508043373146, 363.92391085733783, 429.70592357138906, 369.51854555874985, 353.5829376964465, 305.18953331901264, 333.0540456910905, 322.5144843789403, 442.22902122252344, 313.3420996211801, 278.53892355877906, 275.4147491328071, 1260.8499728983961, 269.2049316237006, 228.39008126447519, 322.33145322460007, 345.2930409128884, 226.70007623865357, 220.35167329532877, 206.34148232372098, 227.64210452104516, 273.4398461472052, 755.5108705988582, 1335.422025920726, 478.1448897655637, 742.4795548783032, 1109.1659750125214, 813.858833772836, 1387.4356732344072, 904.6861915848674, 616.539506306194, 537.562809128981, 470.0483008173135, 406.67439401637006, 438.7747748991878, 379.640862271621, 330.5133210366813, 335.626815472184, 330.21776697651734, 270.1431368021107, 259.1757742219705, 241.6863346741768, 283.2592588547823, 257.6247932249436, 253.50572649878612, 250.1910743256304, 280.64370940999385, 227.02166239643233, 203.86841255325132, 209.15999408633604, 208.7266721078715, 195.9396485870114, 231.08911414648853, 203.49432732636012, 221.3822911664322, 181.14285030014256, 131.90325644634905, 123.5070970942796, 188.11133323937798, 172.84318996020798, 245.91024272438008, 798.9606072748377, 1109.1659750125214, 284.7850975559408, 1335.422025920726, 725.3469861053973, 438.0204086801001, 320.11362738821606], \"Category\": [\"Default\", \"Default\", \"Default\", \"Default\", \"Default\", \"Default\", \"Default\", \"Default\", \"Default\", \"Default\", \"Default\", \"Default\", \"Default\", \"Default\", \"Default\", \"Default\", \"Default\", \"Default\", \"Default\", \"Default\", \"Default\", \"Default\", \"Default\", \"Default\", \"Default\", \"Default\", \"Default\", \"Default\", \"Default\", \"Default\", \"Topic1\", \"Topic1\", \"Topic1\", \"Topic1\", \"Topic1\", \"Topic1\", \"Topic1\", \"Topic1\", \"Topic1\", \"Topic1\", \"Topic1\", \"Topic1\", \"Topic1\", \"Topic1\", \"Topic1\", \"Topic1\", \"Topic1\", \"Topic1\", \"Topic1\", \"Topic1\", \"Topic1\", \"Topic1\", \"Topic1\", \"Topic1\", \"Topic1\", \"Topic1\", \"Topic1\", \"Topic1\", \"Topic1\", \"Topic1\", \"Topic1\", \"Topic1\", \"Topic1\", \"Topic1\", \"Topic1\", \"Topic1\", \"Topic2\", \"Topic2\", \"Topic2\", \"Topic2\", \"Topic2\", \"Topic2\", \"Topic2\", \"Topic2\", \"Topic2\", \"Topic2\", \"Topic2\", \"Topic2\", \"Topic2\", \"Topic2\", \"Topic2\", \"Topic2\", \"Topic2\", \"Topic2\", \"Topic2\", \"Topic2\", \"Topic2\", \"Topic2\", \"Topic2\", \"Topic2\", \"Topic2\", \"Topic2\", \"Topic2\", \"Topic2\", \"Topic2\", \"Topic2\", \"Topic2\", \"Topic2\", \"Topic2\", \"Topic2\", \"Topic2\", \"Topic2\", \"Topic2\", \"Topic2\", \"Topic3\", \"Topic3\", \"Topic3\", \"Topic3\", \"Topic3\", \"Topic3\", \"Topic3\", \"Topic3\", \"Topic3\", \"Topic3\", \"Topic3\", \"Topic3\", \"Topic3\", \"Topic3\", \"Topic3\", \"Topic3\", \"Topic3\", \"Topic3\", \"Topic3\", \"Topic3\", \"Topic3\", \"Topic3\", \"Topic3\", \"Topic3\", \"Topic3\", \"Topic3\", \"Topic3\", \"Topic3\", \"Topic3\", \"Topic3\", \"Topic3\", \"Topic3\", \"Topic3\", \"Topic3\", \"Topic3\", \"Topic3\", \"Topic3\", \"Topic3\", \"Topic3\", \"Topic3\"], \"logprob\": [30.0, 29.0, 28.0, 27.0, 26.0, 25.0, 24.0, 23.0, 22.0, 21.0, 20.0, 19.0, 18.0, 17.0, 16.0, 15.0, 14.0, 13.0, 12.0, 11.0, 10.0, 9.0, 8.0, 7.0, 6.0, 5.0, 4.0, 3.0, 2.0, 1.0, -2.753200054168701, -3.694700002670288, -3.601799964904785, -3.9240000247955322, -4.148900032043457, -4.197800159454346, -4.121699810028076, -3.248500108718872, -4.097899913787842, -4.2941999435424805, -4.649600028991699, -4.6554999351501465, -4.636199951171875, -4.385499954223633, -4.40880012512207, -4.69379997253418, -4.778200149536133, -4.9822001457214355, -4.888999938964844, -4.962800025939941, -4.905799865722656, -4.830900192260742, -4.969900131225586, -4.908100128173828, -5.031000137329102, -5.1203999519348145, -4.7164998054504395, -5.084199905395508, -5.10129976272583, -5.212900161743164, -4.843800067901611, -4.977099895477295, -5.05679988861084, -4.2729997634887695, -4.572199821472168, -4.714399814605713, -3.5037999153137207, -3.6858999729156494, -3.61929988861084, -3.809799909591675, -3.9242000579833984, -3.908600091934204, -4.093699932098389, -4.190899848937988, -4.0945000648498535, -4.216000080108643, -4.370699882507324, -4.527100086212158, -4.361000061035156, -4.5121002197265625, -4.556300163269043, -4.703499794006348, -4.616099834442139, -4.6483001708984375, -4.332600116729736, -4.677199840545654, -4.795100212097168, -4.806399822235107, -3.2853000164031982, -4.829400062561035, -4.994100093841553, -4.649700164794922, -4.580900192260742, -5.001800060272217, -5.0304999351501465, -5.09630012512207, -4.998199939727783, -4.823800086975098, -4.060299873352051, -4.045599937438965, -4.599699974060059, -4.573500156402588, -4.615799903869629, -4.7866997718811035, -2.9832000732421875, -3.4110000133514404, -3.7950000762939453, -3.9321000576019287, -4.066500186920166, -4.21150016784668, -4.1356000900268555, -4.280399799346924, -4.4191999435424805, -4.403900146484375, -4.420300006866455, -4.621500015258789, -4.663099765777588, -4.732999801635742, -4.574399948120117, -4.669300079345703, -4.685500144958496, -4.698699951171875, -4.583899974822998, -4.796199798583984, -4.903900146484375, -4.878300189971924, -4.880499839782715, -4.94379997253418, -4.7789998054504395, -4.906300067901611, -4.822299957275391, -5.0233001708984375, -5.341000080108643, -5.407100200653076, -4.988100051879883, -5.07480001449585, -4.784900188446045, -3.820499897003174, -3.563199996948242, -4.673999786376953, -3.601599931716919, -4.272200107574463, -4.622700214385986, -4.810999870300293], \"loglift\": [30.0, 29.0, 28.0, 27.0, 26.0, 25.0, 24.0, 23.0, 22.0, 21.0, 20.0, 19.0, 18.0, 17.0, 16.0, 15.0, 14.0, 13.0, 12.0, 11.0, 10.0, 9.0, 8.0, 7.0, 6.0, 5.0, 4.0, 3.0, 2.0, 1.0, 0.9529, 0.9525, 0.9524, 0.9522, 0.952, 0.952, 0.9519, 0.9519, 0.9519, 0.9514, 0.9513, 0.9512, 0.9511, 0.9509, 0.9508, 0.9508, 0.9508, 0.9506, 0.9506, 0.9506, 0.9505, 0.9504, 0.9503, 0.9503, 0.9503, 0.9503, 0.9501, 0.95, 0.95, 0.95, 0.9487, 0.9497, 0.9467, 0.5305, 0.323, 0.2042, 1.0823, 1.0822, 1.0822, 1.0821, 1.082, 1.082, 1.0818, 1.0817, 1.0816, 1.0815, 1.0812, 1.0812, 1.0811, 1.081, 1.0809, 1.0808, 1.0808, 1.0808, 1.0808, 1.0807, 1.0806, 1.0806, 1.0804, 1.0803, 1.0801, 1.08, 1.0799, 1.0799, 1.0795, 1.0794, 1.0793, 1.0704, 0.8176, 0.2627, 0.7356, 0.3217, -0.1219, 0.0167, 1.2868, 1.2866, 1.2862, 1.2861, 1.2859, 1.2857, 1.2857, 1.2856, 1.2853, 1.2853, 1.2852, 1.2848, 1.2846, 1.2846, 1.2845, 1.2844, 1.2844, 1.2843, 1.2842, 1.284, 1.2838, 1.2838, 1.2838, 1.2836, 1.2834, 1.2833, 1.283, 1.2827, 1.2822, 1.2819, 1.2801, 1.278, 1.2154, 1.0014, 0.9307, 1.1795, 0.7066, 0.6464, 0.8003, 0.9255]}, \"token.table\": {\"Topic\": [2, 1, 1, 2, 2, 1, 2, 2, 1, 2, 2, 3, 3, 3, 2, 3, 3, 3, 1, 1, 2, 3, 3, 2, 3, 3, 1, 2, 3, 1, 2, 2, 2, 1, 2, 3, 2, 3, 2, 3, 2, 3, 1, 1, 2, 3, 3, 1, 2, 2, 2, 3, 2, 1, 3, 2, 3, 2, 2, 3, 2, 1, 2, 3, 1, 3, 1, 1, 3, 1, 2, 3, 1, 1, 2, 1, 1, 1, 2, 3, 3, 3, 2, 1, 2, 3, 3, 2, 3, 1, 2, 3, 2, 3, 1, 1, 1, 3, 2, 3, 3, 2, 1, 2, 3, 1, 3, 3, 2, 1, 1, 2, 2, 3, 1, 1, 2, 1, 2, 1, 2, 3, 1, 2, 2, 2, 1, 2, 2, 2, 3, 1, 1, 1, 2, 2, 3, 3, 1, 1, 2, 2], \"Freq\": [0.9986705322005083, 0.9981655854831507, 0.996107919321633, 0.0029125962553264123, 0.9971793244382618, 0.9965454610339392, 0.002093582901331805, 0.9984940925127902, 0.9997691293434303, 0.9983450621761782, 0.9984040361932834, 0.9965185469564908, 0.9991249444671823, 0.9944540346187941, 0.005785590975439763, 0.9893360568001995, 0.998953035590589, 0.9983119249393062, 0.9992600149106339, 0.9994052460740147, 0.9969118835323347, 0.9936908892719258, 0.995204397916463, 0.9961023128608765, 0.9981324034812232, 0.9954634100139177, 0.010971334435234296, 0.9874200991710866, 0.0036571114784114318, 0.996390295801749, 0.9983571937628367, 0.9974612526691052, 0.9995732173740781, 0.9951997605677069, 0.30301740288726847, 0.6966276375655759, 0.06913091464455125, 0.9312340855060139, 0.9987186801149813, 0.9957684033152097, 0.2993240033316493, 0.6996247788715658, 0.9964354201082553, 0.2329549538585633, 0.7663688538869781, 0.0013236076923782004, 0.9982342309915929, 0.9974623142726576, 0.003778266341941885, 0.9989082232435612, 0.0007207541360593588, 0.9996859867143306, 0.999277945205447, 0.9985844797744132, 0.9975747938809677, 0.9969465257713842, 0.002379347316876812, 0.998757404841121, 0.9984047712463796, 0.9955543947270304, 0.9980651768453276, 0.9954852907824409, 0.004079857749108364, 0.9952870382903535, 0.0053160008106872885, 0.9940921515985229, 0.9990360419389906, 0.4728771285611436, 0.5266444988640142, 0.9964912135177626, 0.0021429918570274463, 0.9977698019214394, 0.997459738456928, 0.6549047302578899, 0.34404000839063636, 0.9959322127293321, 0.997070521489705, 0.9954221137880873, 0.9955241101400591, 0.9980050687384037, 0.9983416855688659, 0.9963122305996215, 0.9968352112675787, 0.002261271766460605, 0.9972208490091269, 0.9931521292901784, 0.9971602255663231, 0.2478219804545247, 0.7509756983470445, 0.9943820022455925, 0.0033035946918458224, 0.9957403280754713, 0.9988060310937519, 0.9952393412561146, 0.9983221468179507, 0.9973165121232835, 0.9982293189690371, 0.9975708053740125, 0.9981806200888224, 0.9958941865997182, 0.9984468975862418, 0.9986050588563934, 0.9979448926611054, 0.0019117718250212746, 0.9992415142496369, 0.9988843224105548, 0.0009577030895594965, 0.9977063109258812, 0.9988573066272374, 0.99909663430564, 0.2927982772515723, 0.7068986979359388, 0.004517073135033252, 0.9937560897073153, 0.9973128798659496, 0.0028960908026301148, 0.9962552361047595, 0.9985185041637523, 0.9985966995026846, 0.9986368272467074, 0.10183117111422406, 0.8989234415600469, 0.5320011809143254, 0.46735293614498963, 0.9986783942923795, 0.9982920393814149, 0.9983056371479638, 0.0013445193766302543, 0.9983513409887811, 0.44031024544064634, 0.5593737301771476, 0.9970354931370162, 0.998867991963025, 0.9981474949498443, 0.0015718858188186525, 0.3858267711982935, 0.6141266358126684, 0.9954997140552682, 0.9982519798548721, 0.003102396585862198, 0.9958693040617655, 0.9978351860151847], \"Term\": [\"account\", \"ad\", \"allow\", \"allow\", \"already\", \"also\", \"also\", \"always\", \"app\", \"appear\", \"asap\", \"ask\", \"bad\", \"ban\", \"browse\", \"browse\", \"bump\", \"buy\", \"buyer\", \"carousell\", \"chat\", \"choose\", \"coin\", \"connection\", \"country\", \"customer\", \"day\", \"day\", \"day\", \"delete\", \"email\", \"error\", \"even\", \"feedback\", \"find\", \"find\", \"first\", \"first\", \"fix\", \"free\", \"get\", \"get\", \"give\", \"go\", \"go\", \"go\", \"good\", \"help\", \"help\", \"issue\", \"item\", \"item\", \"keep\", \"late\", \"let\", \"list\", \"list\", \"listing\", \"load\", \"location\", \"log\", \"long\", \"long\", \"lot\", \"low\", \"low\", \"make\", \"many\", \"many\", \"message\", \"message\", \"money\", \"much\", \"new\", \"new\", \"notification\", \"offer\", \"old\", \"open\", \"option\", \"pay\", \"people\", \"phone\", \"photo\", \"photo\", \"place\", \"platform\", \"post\", \"post\", \"previous\", \"previous\", \"price\", \"problem\", \"put\", \"really\", \"reply\", \"report\", \"sale\", \"say\", \"scam\", \"scammer\", \"search\", \"see\", \"see\", \"sell\", \"seller\", \"seller\", \"service\", \"show\", \"slow\", \"still\", \"still\", \"stuff\", \"stuff\", \"stupid\", \"suck\", \"suck\", \"support\", \"suspend\", \"take\", \"thing\", \"thing\", \"time\", \"time\", \"try\", \"unable\", \"update\", \"update\", \"upload\", \"use\", \"use\", \"useless\", \"user\", \"version\", \"version\", \"want\", \"want\", \"way\", \"well\", \"work\", \"work\", \"wrong\"]}, \"R\": 30, \"lambda.step\": 0.01, \"plot.opts\": {\"xlab\": \"PC1\", \"ylab\": \"PC2\"}, \"topic.order\": [3, 2, 1]};\n",
       "\n",
       "function LDAvis_load_lib(url, callback){\n",
       "  var s = document.createElement('script');\n",
       "  s.src = url;\n",
       "  s.async = true;\n",
       "  s.onreadystatechange = s.onload = callback;\n",
       "  s.onerror = function(){console.warn(\"failed to load library \" + url);};\n",
       "  document.getElementsByTagName(\"head\")[0].appendChild(s);\n",
       "}\n",
       "\n",
       "if(typeof(LDAvis) !== \"undefined\"){\n",
       "   // already loaded: just create the visualization\n",
       "   !function(LDAvis){\n",
       "       new LDAvis(\"#\" + \"ldavis_el2062424550980769605125485024\", ldavis_el2062424550980769605125485024_data);\n",
       "   }(LDAvis);\n",
       "}else if(typeof define === \"function\" && define.amd){\n",
       "   // require.js is available: use it to load d3/LDAvis\n",
       "   require.config({paths: {d3: \"https://cdnjs.cloudflare.com/ajax/libs/d3/3.5.5/d3.min\"}});\n",
       "   require([\"d3\"], function(d3){\n",
       "      window.d3 = d3;\n",
       "      LDAvis_load_lib(\"https://cdn.rawgit.com/bmabey/pyLDAvis/files/ldavis.v1.0.0.js\", function(){\n",
       "        new LDAvis(\"#\" + \"ldavis_el2062424550980769605125485024\", ldavis_el2062424550980769605125485024_data);\n",
       "      });\n",
       "    });\n",
       "}else{\n",
       "    // require.js not available: dynamically load d3 & LDAvis\n",
       "    LDAvis_load_lib(\"https://cdnjs.cloudflare.com/ajax/libs/d3/3.5.5/d3.min.js\", function(){\n",
       "         LDAvis_load_lib(\"https://cdn.rawgit.com/bmabey/pyLDAvis/files/ldavis.v1.0.0.js\", function(){\n",
       "                 new LDAvis(\"#\" + \"ldavis_el2062424550980769605125485024\", ldavis_el2062424550980769605125485024_data);\n",
       "            })\n",
       "         });\n",
       "}\n",
       "</script>"
      ],
      "text/plain": [
       "PreparedData(topic_coordinates=              x         y  topics  cluster       Freq\n",
       "topic                                                \n",
       "2     -0.320279 -0.005025  1       1        38.547625\n",
       "1      0.164680 -0.263373  2       1        33.855345\n",
       "0      0.155600  0.268399  3       1        27.597030, topic_info=       Term         Freq        Total Category  logprob  loglift\n",
       "0    app     2438.000000  2438.000000  Default  30.0000  30.0000\n",
       "3    item    1387.000000  1387.000000  Default  29.0000  29.0000\n",
       "335  update  1487.000000  1487.000000  Default  28.0000  28.0000\n",
       "22   list    1260.000000  1260.000000  Default  27.0000  27.0000\n",
       "24   sell    904.000000   904.000000   Default  26.0000  26.0000\n",
       "..    ...           ...          ...       ...      ...      ...\n",
       "69   thing   255.641426   284.785098   Topic3  -4.6740   1.1795 \n",
       "12   use     747.074686   1335.422026  Topic3  -3.6016   0.7066 \n",
       "56   many    382.045841   725.346986   Topic3  -4.2722   0.6464 \n",
       "342  want    269.109319   438.020409   Topic3  -4.6227   0.8003 \n",
       "1    find    222.905758   320.113627   Topic3  -4.8110   0.9255 \n",
       "\n",
       "[144 rows x 6 columns], token_table=      Topic      Freq     Term\n",
       "term                          \n",
       "153   2      0.998671  account\n",
       "125   1      0.998166  ad     \n",
       "377   1      0.996108  allow  \n",
       "377   2      0.002913  allow  \n",
       "167   2      0.997179  already\n",
       "...  ..           ...    ...  \n",
       "220   3      0.995500  way    \n",
       "13    1      0.998252  well   \n",
       "19    1      0.003102  work   \n",
       "19    2      0.995869  work   \n",
       "386   2      0.997835  wrong  \n",
       "\n",
       "[142 rows x 3 columns], R=30, lambda_step=0.01, plot_opts={'xlab': 'PC1', 'ylab': 'PC2'}, topic_order=[3, 2, 1])"
      ]
     },
     "execution_count": 36,
     "metadata": {},
     "output_type": "execute_result"
    }
   ],
   "source": [
    "# Visualisation of the topics estimated using LDA\n",
    "pyLDAvis.enable_notebook()\n",
    "vis = pyLDAvis.gensim.prepare(lda_model, corpus, dictionary=lda_model.id2word)\n",
    "vis"
   ]
  },
  {
   "cell_type": "code",
   "execution_count": 37,
   "metadata": {},
   "outputs": [
    {
     "data": {
      "text/plain": [
       "10044    What happen i cant see the review of the seller.. What happen to my account                                                                                                                                                                                                                                                                                                                                                                                                                                \n",
       "10045    Best platform to sell/buy second-hand items so far, If only Carousell can provide/set up a more established account like: 1. Seller can input order number/tracking order 2. Virtual account for both seller/buyer At least these two, I'd give out my 5 stars !                                                                                                                                                                                                                                           \n",
       "10062    A lot of scammer buyer! Recommend to restricted more rules for buyer while sign up an account                                                                                                                                                                                                                                                                                                                                                                                                              \n",
       "10122    good free platform to buy and sell items, got some pretty good deals from there and sold some items as well. yet not much protection from the apps, I have seen someone posting other ppls personal details publicly (personal photo, ID card info, bank card info) , carousel closed the acc after I reported it but then next day I see the same thing with different new accounts, it's a good thing to be able to trade anything freely but can also hurt when ppl have bad intentions, two way swords.\n",
       "10401    Nice. Buy many scammer try to trick you, be careful.. Just do the transaction in carousell or confirm the money already transferred to your account before you postage it.                                                                                                                                                                                                                                                                                                                                 \n",
       "                                                                                            ...                                                                                                                                                                                                                                                                                                                                                                                                                     \n",
       "20019    my accounts are suddenly suspended.even i dont do anything wrong. So sad                                                                                                                                                                                                                                                                                                                                                                                                                                   \n",
       "20022    Too muchhh of suspended account which leads to fake, liar scammer!!! Fixed it .. !!! If can, just erase all their data permanently to avoid others seller or buyers being lied of! Attention to all buyers and seller, if receive  those suspended account in your message, THATS TRULY FAKE !!! Fixed it carousel to avoid more negative feedbacks!                                                                                                                                                       \n",
       "20024    Why cant open my profile.... Keep saying that ur account no longer can be use,I try register with new account also the same,please fix it,!!!!                                                                                                                                                                                                                                                                                                                                                             \n",
       "20100    1. Users cannot log in using google account or email account on computer version, only using facebook. Please update the computer version of carousell.   2. The 'Crop' function doesn't allow users to properly crop and size the listing photo according to one's preference; only allows users to zoom in/out to a fixed crop size.  Extremely annoyed.                                                                                                                                                 \n",
       "20103    App is good but with users abusing the keywords and spamming them, it makes it difficult to reliably find anything.   Also, Carousell warned me that my account could be suspended if I kept reporting keyword spam abuse too quickly, but literally every other post is an abuse of the system.                                                                                                                                                                                                           \n",
       "Name: content, Length: 698, dtype: object"
      ]
     },
     "execution_count": 37,
     "metadata": {},
     "output_type": "execute_result"
    }
   ],
   "source": [
    "# Browse through the reviews that contain the top words related to each topic\n",
    "df[(df['target']==0) & (df['content'].str.contains('account'))]['content']"
   ]
  }
 ],
 "metadata": {
  "kernelspec": {
   "display_name": "Python 3",
   "language": "python",
   "name": "python3"
  },
  "language_info": {
   "codemirror_mode": {
    "name": "ipython",
    "version": 3
   },
   "file_extension": ".py",
   "mimetype": "text/x-python",
   "name": "python",
   "nbconvert_exporter": "python",
   "pygments_lexer": "ipython3",
   "version": "3.8.5"
  }
 },
 "nbformat": 4,
 "nbformat_minor": 4
}
